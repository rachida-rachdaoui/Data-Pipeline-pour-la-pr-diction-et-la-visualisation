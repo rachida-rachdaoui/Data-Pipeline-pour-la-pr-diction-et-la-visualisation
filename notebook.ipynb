{
 "cells": [
  {
   "cell_type": "code",
   "execution_count": 134,
   "metadata": {},
   "outputs": [],
   "source": [
    "import json\n",
    "import requests \n",
    "import pandas as pd \n",
    "import datetime\n",
    "import matplotlib.pyplot as pyplot\n",
    "import seaborn as sns "
   ]
  },
  {
   "cell_type": "markdown",
   "metadata": {},
   "source": [
    "## Extraction "
   ]
  },
  {
   "cell_type": "code",
   "execution_count": 135,
   "metadata": {},
   "outputs": [],
   "source": [
    "cities = [\n",
    "    {\"name\": \"Rabat\", \"lat\": 34.0209, \"lon\": -6.8417},\n",
    "    {\"name\": \"Casablanca\", \"lat\": 33.5731, \"lon\": -7.5898},\n",
    "    {\"name\": \"Marrakech\", \"lat\": 31.6295, \"lon\": -7.9811},\n",
    "    {\"name\": \"Fès\", \"lat\": 34.0331, \"lon\": -4.9998},\n",
    "    {\"name\": \"Agadir\", \"lat\": 30.4278, \"lon\": -9.5981},\n",
    "    {\"name\": \"Tangier\", \"lat\": 35.7595, \"lon\": -5.8339},\n",
    "    {\"name\": \"Meknès\", \"lat\": 33.8935, \"lon\": -5.5473},\n",
    "    {\"name\": \"Oujda\", \"lat\": 34.6805, \"lon\": -1.8993},\n",
    "    {\"name\": \"Kenitra\", \"lat\": 34.2644, \"lon\": -6.5796},\n",
    "    {\"name\": \"Tétouan\", \"lat\": 35.577, \"lon\": -5.3684},\n",
    "    {\"name\": \"Safi\", \"lat\": 32.3008, \"lon\": -9.2319},\n",
    "    {\"name\": \"El Jadida\", \"lat\": 33.2568, \"lon\": -8.5088},\n",
    "    {\"name\": \"Nador\", \"lat\": 35.1681, \"lon\": -2.9335},\n",
    "    {\"name\": \"Laâyoune\", \"lat\": 27.1622, \"lon\": -13.2034},\n",
    "    {\"name\": \"Taza\", \"lat\": 34.208, \"lon\": -3.9986},\n",
    "    {\"name\": \"Essaouira\", \"lat\": 31.5085, \"lon\": -9.7595},\n",
    "    {\"name\": \"Ifrane\", \"lat\": 33.5333, \"lon\": -5.1167},\n",
    "    {\"name\": \"Taroudant\", \"lat\": 30.4708, \"lon\": -8.8763},\n",
    "    {\"name\": \"Errachidia\", \"lat\": 31.9314, \"lon\": -4.4244},\n",
    "    {\"name\": \"Ouarzazate\", \"lat\": 30.916, \"lon\": -6.9274},\n",
    "    {\"name\": \"Ksar El Kebir\", \"lat\": 35.0028, \"lon\": -5.9033},\n",
    "    {\"name\": \"Al Hoceima\", \"lat\": 35.251, \"lon\": -3.9372},\n",
    "    {\"name\": \"Guelmim\", \"lat\": 28.987, \"lon\": -10.0574},\n",
    "    {\"name\": \"Settat\", \"lat\": 33.0011, \"lon\": -7.6162},\n",
    "]\n"
   ]
  },
  {
   "cell_type": "code",
   "execution_count": 136,
   "metadata": {},
   "outputs": [
    {
     "name": "stdout",
     "output_type": "stream",
     "text": [
      "       City                Date  Temperature           Weather  Pressure  \\\n",
      "0     Rabat 2025-01-28 15:00:00        18.74        few clouds      1032   \n",
      "1     Rabat 2025-01-28 18:00:00        17.09        few clouds      1031   \n",
      "2     Rabat 2025-01-28 21:00:00        14.99         clear sky      1032   \n",
      "3     Rabat 2025-01-29 00:00:00        13.38         clear sky      1031   \n",
      "4     Rabat 2025-01-29 03:00:00        12.90         clear sky      1030   \n",
      "..      ...                 ...          ...               ...       ...   \n",
      "955  Settat 2025-02-02 00:00:00         6.41     broken clouds      1023   \n",
      "956  Settat 2025-02-02 03:00:00         7.45  scattered clouds      1023   \n",
      "957  Settat 2025-02-02 06:00:00         9.06     broken clouds      1022   \n",
      "958  Settat 2025-02-02 09:00:00        10.31   overcast clouds      1022   \n",
      "959  Settat 2025-02-02 12:00:00        14.02     broken clouds      1021   \n",
      "\n",
      "     Humidity  Wind Speed  \n",
      "0          60        3.67  \n",
      "1          70        2.24  \n",
      "2          80        2.24  \n",
      "3          85        2.63  \n",
      "4          87        3.04  \n",
      "..        ...         ...  \n",
      "955        88        0.37  \n",
      "956        85        1.17  \n",
      "957        80        1.18  \n",
      "958        70        0.41  \n",
      "959        48        1.98  \n",
      "\n",
      "[960 rows x 7 columns]\n"
     ]
    }
   ],
   "source": [
    "import requests\n",
    "import pandas as pd\n",
    "\n",
    "API_KEY = \"a4659790aaec418606aac9a4cec9d663\"  \n",
    "\n",
    "weather_data = []\n",
    "\n",
    "for city in cities:\n",
    "    # Utilisation de l'API 'forecast' pour obtenir les prévisions sur 5 jours avec une fréquence horaire (donc 3 heures par intervalle)\n",
    "    url = f\"http://api.openweathermap.org/data/2.5/forecast?lat={city['lat']}&lon={city['lon']}&appid={API_KEY}&units=metric\"\n",
    "    response = requests.get(url)\n",
    "\n",
    "    if response.status_code == 200:\n",
    "        data = response.json()\n",
    "        # Extraction des prévisions pour chaque jour (dans l'intervalle de 5 jours)\n",
    "        for day in data['list']:\n",
    "            weather_data.append({\n",
    "                \"City\": city[\"name\"],\n",
    "                \"Date\": pd.to_datetime(day[\"dt\"], unit=\"s\"),  # Convertir le timestamp en date\n",
    "                \"Temperature\": day[\"main\"][\"temp\"],\n",
    "                \"Weather\": day[\"weather\"][0][\"description\"],\n",
    "                \"Pressure\": day[\"main\"][\"pressure\"],\n",
    "                \"Humidity\": day[\"main\"][\"humidity\"],\n",
    "                \"Wind Speed\": day[\"wind\"][\"speed\"]\n",
    "            })\n",
    "    else:\n",
    "        print(f\"Failed to fetch data for {city['name']} (status code {response.status_code})\")\n",
    "\n",
    "# Convertir les données collectées en DataFrame\n",
    "df = pd.DataFrame(weather_data)\n",
    "print(df)\n"
   ]
  },
  {
   "cell_type": "markdown",
   "metadata": {},
   "source": [
    "## Transformation "
   ]
  },
  {
   "cell_type": "code",
   "execution_count": 137,
   "metadata": {},
   "outputs": [],
   "source": [
    "df['temp_rolling_avg'] = df['Temperature'].rolling(window=3).mean()\n"
   ]
  },
  {
   "cell_type": "code",
   "execution_count": 138,
   "metadata": {},
   "outputs": [
    {
     "name": "stderr",
     "output_type": "stream",
     "text": [
      "C:\\Users\\dell\\AppData\\Local\\Temp\\ipykernel_17752\\2180507842.py:1: FutureWarning: DataFrame.fillna with 'method' is deprecated and will raise in a future version. Use obj.ffill() or obj.bfill() instead.\n",
      "  df.fillna(method='ffill', inplace=True)  # Remplir les valeurs manquantes avec la valeur précédente\n"
     ]
    }
   ],
   "source": [
    "df.fillna(method='ffill', inplace=True)  # Remplir les valeurs manquantes avec la valeur précédente\n"
   ]
  },
  {
   "cell_type": "code",
   "execution_count": 139,
   "metadata": {},
   "outputs": [],
   "source": [
    "\n",
    "# Fonction pour calculer l'indice de chaleur\n",
    "def calculate_heat_index(temp_c, humidity):\n",
    "    c1 = -8.78469475556\n",
    "    c2 = 1.61139411\n",
    "    c3 = 2.33854883889\n",
    "    c4 = -0.14611605\n",
    "    c5 = -0.012308094\n",
    "    c6 = -0.0164248271\n",
    "    c7 = 0.002211732\n",
    "    c8 = 0.00072546\n",
    "    c9 = -0.000003582\n",
    "\n",
    "    HI = (c1 + c2 * temp_c + c3 * humidity + c4 * temp_c * humidity +\n",
    "          c5 * temp_c ** 2 + c6 * humidity ** 2 + c7 * temp_c ** 2 * humidity +\n",
    "          c8 * temp_c * humidity ** 2 + c9 * temp_c ** 2 * humidity ** 2)\n",
    "    return HI\n",
    "\n",
    "# Fonction pour calculer l'indice de refroidissement éolien\n",
    "def calculate_wind_chill(temp_c, wind_speed):\n",
    "    WC = 13.12 + 0.6215 * temp_c - 11.37 * wind_speed ** 0.16 + 0.3965 * temp_c * wind_speed ** 0.16\n",
    "    return WC\n"
   ]
  },
  {
   "cell_type": "code",
   "execution_count": 140,
   "metadata": {},
   "outputs": [],
   "source": [
    "# Fonction pour calculer l'indice de refroidissement éolien (Wind Chill)\n",
    "def calculate_wind_chill(temp_c, wind_speed):\n",
    "    WC = 13.12 + 0.6215 * temp_c - 11.37 * wind_speed ** 0.16 + 0.3965 * temp_c * wind_speed ** 0.16\n",
    "    return WC"
   ]
  },
  {
   "cell_type": "code",
   "execution_count": 141,
   "metadata": {},
   "outputs": [
    {
     "name": "stdout",
     "output_type": "stream",
     "text": [
      "       City                Date  Temperature           Weather  Pressure  \\\n",
      "0     Rabat 2025-01-28 15:00:00        18.74        few clouds      1032   \n",
      "1     Rabat 2025-01-28 18:00:00        17.09        few clouds      1031   \n",
      "2     Rabat 2025-01-28 21:00:00        14.99         clear sky      1032   \n",
      "3     Rabat 2025-01-29 00:00:00        13.38         clear sky      1031   \n",
      "4     Rabat 2025-01-29 03:00:00        12.90         clear sky      1030   \n",
      "..      ...                 ...          ...               ...       ...   \n",
      "955  Settat 2025-02-02 00:00:00         6.41     broken clouds      1023   \n",
      "956  Settat 2025-02-02 03:00:00         7.45  scattered clouds      1023   \n",
      "957  Settat 2025-02-02 06:00:00         9.06     broken clouds      1022   \n",
      "958  Settat 2025-02-02 09:00:00        10.31   overcast clouds      1022   \n",
      "959  Settat 2025-02-02 12:00:00        14.02     broken clouds      1021   \n",
      "\n",
      "     Humidity  Wind Speed  temp_rolling_avg  Heat Index  Wind Chill  \n",
      "0          60        3.67               NaN   24.998817   19.916286  \n",
      "1          70        2.24               NaN   24.420135   18.514908  \n",
      "2          80        2.24         16.940000   23.551757   16.262426  \n",
      "3          85        2.63         15.153333   23.655329   14.356024  \n",
      "4          87        3.04         13.756667   23.445268   13.664307  \n",
      "..        ...         ...               ...         ...         ...  \n",
      "955        88        0.37          7.763333   40.084392    9.573797  \n",
      "956        85        1.17          6.956667   38.163053    9.120005  \n",
      "957        80        1.18          7.640000   35.571420   10.764357  \n",
      "958        70        0.41          8.940000   35.526009   13.213715  \n",
      "959        48        1.98         11.130000   30.144189   15.351228  \n",
      "\n",
      "[960 rows x 10 columns]\n"
     ]
    }
   ],
   "source": [
    "# Ajouter les colonnes Heat Index et Wind Chill à votre DataFrame\n",
    "df['Heat Index'] = df.apply(lambda row: calculate_heat_index(row['Temperature'], row['Humidity']), axis=1)\n",
    "df['Wind Chill'] = df.apply(lambda row: calculate_wind_chill(row['Temperature'], row['Wind Speed']), axis=1)\n",
    "\n",
    "# Afficher le DataFrame avec les nouvelles colonnes\n",
    "print(df)"
   ]
  },
  {
   "cell_type": "code",
   "execution_count": 142,
   "metadata": {},
   "outputs": [
    {
     "name": "stdout",
     "output_type": "stream",
     "text": [
      "Index(['City', 'Date', 'Temperature', 'Weather', 'Pressure', 'Humidity',\n",
      "       'Wind Speed', 'temp_rolling_avg', 'Heat Index', 'Wind Chill'],\n",
      "      dtype='object')\n"
     ]
    }
   ],
   "source": [
    "print(df.columns\n",
    "      )"
   ]
  },
  {
   "cell_type": "markdown",
   "metadata": {},
   "source": [
    "#### Categorisation "
   ]
  },
  {
   "cell_type": "code",
   "execution_count": 143,
   "metadata": {},
   "outputs": [],
   "source": [
    "def wind_speed_category(speed):\n",
    "    if speed < 5:\n",
    "        return \"Léger\"\n",
    "    elif speed < 15:\n",
    "        return \"Modéré\"\n",
    "    else:\n",
    "        return \"Fort\"\n",
    "\n",
    "df['Wind speed category'] = df['Wind Speed'].apply(wind_speed_category)\n",
    "\n",
    "def humidity_category(humidity):\n",
    "    if humidity < 40:\n",
    "        return \"Faible\"\n",
    "    elif humidity < 70:\n",
    "        return \"Modéré\"\n",
    "    else:\n",
    "        return \"Elevé\"\n",
    "\n",
    "df['Humidity category'] = df['Humidity'].apply(humidity_category)\n"
   ]
  },
  {
   "cell_type": "code",
   "execution_count": 144,
   "metadata": {},
   "outputs": [
    {
     "name": "stderr",
     "output_type": "stream",
     "text": [
      "C:\\Users\\dell\\AppData\\Local\\Temp\\ipykernel_17752\\2180507842.py:1: FutureWarning: DataFrame.fillna with 'method' is deprecated and will raise in a future version. Use obj.ffill() or obj.bfill() instead.\n",
      "  df.fillna(method='ffill', inplace=True)  # Remplir les valeurs manquantes avec la valeur précédente\n"
     ]
    }
   ],
   "source": [
    "df.fillna(method='ffill', inplace=True)  # Remplir les valeurs manquantes avec la valeur précédente\n"
   ]
  },
  {
   "cell_type": "code",
   "execution_count": 145,
   "metadata": {},
   "outputs": [
    {
     "name": "stdout",
     "output_type": "stream",
     "text": [
      "       City                Date  Temperature           Weather  Pressure  \\\n",
      "0     Rabat 2025-01-28 15:00:00        18.74        few clouds      1032   \n",
      "1     Rabat 2025-01-28 18:00:00        17.09        few clouds      1031   \n",
      "2     Rabat 2025-01-28 21:00:00        14.99         clear sky      1032   \n",
      "3     Rabat 2025-01-29 00:00:00        13.38         clear sky      1031   \n",
      "4     Rabat 2025-01-29 03:00:00        12.90         clear sky      1030   \n",
      "..      ...                 ...          ...               ...       ...   \n",
      "955  Settat 2025-02-02 00:00:00         6.41     broken clouds      1023   \n",
      "956  Settat 2025-02-02 03:00:00         7.45  scattered clouds      1023   \n",
      "957  Settat 2025-02-02 06:00:00         9.06     broken clouds      1022   \n",
      "958  Settat 2025-02-02 09:00:00        10.31   overcast clouds      1022   \n",
      "959  Settat 2025-02-02 12:00:00        14.02     broken clouds      1021   \n",
      "\n",
      "     Humidity  Wind Speed  temp_rolling_avg  Heat Index  Wind Chill  \\\n",
      "0          60        3.67               NaN   24.998817   19.916286   \n",
      "1          70        2.24               NaN   24.420135   18.514908   \n",
      "2          80        2.24         16.940000   23.551757   16.262426   \n",
      "3          85        2.63         15.153333   23.655329   14.356024   \n",
      "4          87        3.04         13.756667   23.445268   13.664307   \n",
      "..        ...         ...               ...         ...         ...   \n",
      "955        88        0.37          7.763333   40.084392    9.573797   \n",
      "956        85        1.17          6.956667   38.163053    9.120005   \n",
      "957        80        1.18          7.640000   35.571420   10.764357   \n",
      "958        70        0.41          8.940000   35.526009   13.213715   \n",
      "959        48        1.98         11.130000   30.144189   15.351228   \n",
      "\n",
      "    Wind speed category Humidity category  \n",
      "0                 Léger            Modéré  \n",
      "1                 Léger             Elevé  \n",
      "2                 Léger             Elevé  \n",
      "3                 Léger             Elevé  \n",
      "4                 Léger             Elevé  \n",
      "..                  ...               ...  \n",
      "955               Léger             Elevé  \n",
      "956               Léger             Elevé  \n",
      "957               Léger             Elevé  \n",
      "958               Léger             Elevé  \n",
      "959               Léger            Modéré  \n",
      "\n",
      "[960 rows x 12 columns]\n"
     ]
    }
   ],
   "source": [
    "print(df)"
   ]
  },
  {
   "cell_type": "markdown",
   "metadata": {},
   "source": [
    "## Chargement "
   ]
  },
  {
   "cell_type": "markdown",
   "metadata": {},
   "source": [
    "### la connection "
   ]
  },
  {
   "cell_type": "code",
   "execution_count": 123,
   "metadata": {},
   "outputs": [
    {
     "name": "stdout",
     "output_type": "stream",
     "text": [
      "Connexion réussie : 21.3.0.0.0\n"
     ]
    }
   ],
   "source": [
    "import oracledb\n",
    "\n",
    "# Chaîne de connexion complète\n",
    "dsn = \"localhost:1521/XE\"\n",
    "\n",
    "try:\n",
    "    connection = oracledb.connect(\n",
    "        user=\"system\",\n",
    "        password=\"0000\",\n",
    "        dsn=dsn\n",
    "    )\n",
    "    print(\"Connexion réussie :\", connection.version)\n",
    "except oracledb.DatabaseError as e:\n",
    "    print(\"Erreur de connexion :\", e)\n",
    "\n"
   ]
  },
  {
   "cell_type": "code",
   "execution_count": 93,
   "metadata": {},
   "outputs": [
    {
     "name": "stdout",
     "output_type": "stream",
     "text": [
      "<oracledb.Connection to system@localhost:1521/XE>\n"
     ]
    }
   ],
   "source": [
    "print(connection)"
   ]
  },
  {
   "cell_type": "code",
   "execution_count": 97,
   "metadata": {},
   "outputs": [],
   "source": [
    "cursor = connection.cursor()\n"
   ]
  },
  {
   "cell_type": "code",
   "execution_count": 84,
   "metadata": {},
   "outputs": [
    {
     "name": "stdout",
     "output_type": "stream",
     "text": [
      "2.5.1\n"
     ]
    }
   ],
   "source": [
    "import oracledb\n",
    "print(oracledb.__version__)  # Prints the library version\n"
   ]
  },
  {
   "cell_type": "markdown",
   "metadata": {},
   "source": [
    "### creation de la table "
   ]
  },
  {
   "cell_type": "code",
   "execution_count": null,
   "metadata": {},
   "outputs": [],
   "source": [
    "\n",
    "# Création de la table\n",
    "create_table_query = \"\"\"\n",
    "CREATE TABLE WeatherData (\n",
    "    City VARCHAR2(50),\n",
    "    Date_ DATE,\n",
    "    Temperature NUMBER(5, 2),\n",
    "    Weather VARCHAR2(50),\n",
    "    Pressure NUMBER(10),\n",
    "    Humidity NUMBER(3),\n",
    "    Wind_Speed NUMBER(5, 2),\n",
    "    Temp_Rolling_Avg NUMBER(5, 2),\n",
    "    Heat_Index NUMBER(5, 2),\n",
    "    Wind_Chill NUMBER(5, 2)\n",
    ");\n",
    "\n",
    "\n",
    "\"\"\"\n",
    "\n",
    "try:\n",
    "    cursor.execute(create_table_query)\n",
    "    print(\"Table créée avec succès !\")\n",
    "except oracledb.DatabaseError as e:\n",
    "    print(\"Erreur lors de la création de la table :\", e)\n",
    "finally:\n",
    "    cursor.close()\n",
    "    connection.close()"
   ]
  },
  {
   "cell_type": "code",
   "execution_count": 99,
   "metadata": {},
   "outputs": [
    {
     "data": {
      "text/html": [
       "<div>\n",
       "<style scoped>\n",
       "    .dataframe tbody tr th:only-of-type {\n",
       "        vertical-align: middle;\n",
       "    }\n",
       "\n",
       "    .dataframe tbody tr th {\n",
       "        vertical-align: top;\n",
       "    }\n",
       "\n",
       "    .dataframe thead th {\n",
       "        text-align: right;\n",
       "    }\n",
       "</style>\n",
       "<table border=\"1\" class=\"dataframe\">\n",
       "  <thead>\n",
       "    <tr style=\"text-align: right;\">\n",
       "      <th></th>\n",
       "      <th>City</th>\n",
       "      <th>Date</th>\n",
       "      <th>Temperature</th>\n",
       "      <th>Weather</th>\n",
       "      <th>Pressure</th>\n",
       "      <th>Humidity</th>\n",
       "      <th>Wind Speed</th>\n",
       "      <th>temp_rolling_avg</th>\n",
       "      <th>Heat Index</th>\n",
       "      <th>Wind Chill</th>\n",
       "      <th>Wind speed category</th>\n",
       "      <th>Humidity category</th>\n",
       "    </tr>\n",
       "  </thead>\n",
       "  <tbody>\n",
       "    <tr>\n",
       "      <th>0</th>\n",
       "      <td>Rabat</td>\n",
       "      <td>2025-01-27 15:00:00</td>\n",
       "      <td>20.37</td>\n",
       "      <td>scattered clouds</td>\n",
       "      <td>1025</td>\n",
       "      <td>73</td>\n",
       "      <td>7.37</td>\n",
       "      <td>NaN</td>\n",
       "      <td>22.666112</td>\n",
       "      <td>21.246540</td>\n",
       "      <td>Modéré</td>\n",
       "      <td>Elevé</td>\n",
       "    </tr>\n",
       "    <tr>\n",
       "      <th>1</th>\n",
       "      <td>Rabat</td>\n",
       "      <td>2025-01-27 18:00:00</td>\n",
       "      <td>19.77</td>\n",
       "      <td>light rain</td>\n",
       "      <td>1025</td>\n",
       "      <td>77</td>\n",
       "      <td>7.34</td>\n",
       "      <td>NaN</td>\n",
       "      <td>21.814886</td>\n",
       "      <td>20.549328</td>\n",
       "      <td>Modéré</td>\n",
       "      <td>Elevé</td>\n",
       "    </tr>\n",
       "    <tr>\n",
       "      <th>2</th>\n",
       "      <td>Rabat</td>\n",
       "      <td>2025-01-27 21:00:00</td>\n",
       "      <td>18.64</td>\n",
       "      <td>light rain</td>\n",
       "      <td>1027</td>\n",
       "      <td>84</td>\n",
       "      <td>5.93</td>\n",
       "      <td>19.593333</td>\n",
       "      <td>19.921837</td>\n",
       "      <td>19.414355</td>\n",
       "      <td>Modéré</td>\n",
       "      <td>Elevé</td>\n",
       "    </tr>\n",
       "    <tr>\n",
       "      <th>3</th>\n",
       "      <td>Rabat</td>\n",
       "      <td>2025-01-28 00:00:00</td>\n",
       "      <td>16.95</td>\n",
       "      <td>light rain</td>\n",
       "      <td>1028</td>\n",
       "      <td>87</td>\n",
       "      <td>2.67</td>\n",
       "      <td>18.453333</td>\n",
       "      <td>19.222606</td>\n",
       "      <td>18.214014</td>\n",
       "      <td>Léger</td>\n",
       "      <td>Elevé</td>\n",
       "    </tr>\n",
       "    <tr>\n",
       "      <th>4</th>\n",
       "      <td>Rabat</td>\n",
       "      <td>2025-01-28 03:00:00</td>\n",
       "      <td>16.28</td>\n",
       "      <td>light rain</td>\n",
       "      <td>1028</td>\n",
       "      <td>77</td>\n",
       "      <td>2.10</td>\n",
       "      <td>17.290000</td>\n",
       "      <td>23.239428</td>\n",
       "      <td>17.703540</td>\n",
       "      <td>Léger</td>\n",
       "      <td>Elevé</td>\n",
       "    </tr>\n",
       "    <tr>\n",
       "      <th>...</th>\n",
       "      <td>...</td>\n",
       "      <td>...</td>\n",
       "      <td>...</td>\n",
       "      <td>...</td>\n",
       "      <td>...</td>\n",
       "      <td>...</td>\n",
       "      <td>...</td>\n",
       "      <td>...</td>\n",
       "      <td>...</td>\n",
       "      <td>...</td>\n",
       "      <td>...</td>\n",
       "      <td>...</td>\n",
       "    </tr>\n",
       "    <tr>\n",
       "      <th>955</th>\n",
       "      <td>Settat</td>\n",
       "      <td>2025-02-01 00:00:00</td>\n",
       "      <td>5.77</td>\n",
       "      <td>clear sky</td>\n",
       "      <td>1029</td>\n",
       "      <td>88</td>\n",
       "      <td>2.93</td>\n",
       "      <td>7.673333</td>\n",
       "      <td>42.481836</td>\n",
       "      <td>5.919329</td>\n",
       "      <td>Léger</td>\n",
       "      <td>Elevé</td>\n",
       "    </tr>\n",
       "    <tr>\n",
       "      <th>956</th>\n",
       "      <td>Settat</td>\n",
       "      <td>2025-02-01 03:00:00</td>\n",
       "      <td>5.25</td>\n",
       "      <td>clear sky</td>\n",
       "      <td>1028</td>\n",
       "      <td>85</td>\n",
       "      <td>2.88</td>\n",
       "      <td>5.750000</td>\n",
       "      <td>46.224833</td>\n",
       "      <td>5.381612</td>\n",
       "      <td>Léger</td>\n",
       "      <td>Elevé</td>\n",
       "    </tr>\n",
       "    <tr>\n",
       "      <th>957</th>\n",
       "      <td>Settat</td>\n",
       "      <td>2025-02-01 06:00:00</td>\n",
       "      <td>5.05</td>\n",
       "      <td>clear sky</td>\n",
       "      <td>1028</td>\n",
       "      <td>79</td>\n",
       "      <td>2.64</td>\n",
       "      <td>5.356667</td>\n",
       "      <td>49.734187</td>\n",
       "      <td>5.316783</td>\n",
       "      <td>Léger</td>\n",
       "      <td>Elevé</td>\n",
       "    </tr>\n",
       "    <tr>\n",
       "      <th>958</th>\n",
       "      <td>Settat</td>\n",
       "      <td>2025-02-01 09:00:00</td>\n",
       "      <td>9.21</td>\n",
       "      <td>clear sky</td>\n",
       "      <td>1029</td>\n",
       "      <td>60</td>\n",
       "      <td>2.44</td>\n",
       "      <td>6.503333</td>\n",
       "      <td>39.668064</td>\n",
       "      <td>9.941753</td>\n",
       "      <td>Léger</td>\n",
       "      <td>Modéré</td>\n",
       "    </tr>\n",
       "    <tr>\n",
       "      <th>959</th>\n",
       "      <td>Settat</td>\n",
       "      <td>2025-02-01 12:00:00</td>\n",
       "      <td>15.36</td>\n",
       "      <td>clear sky</td>\n",
       "      <td>1028</td>\n",
       "      <td>33</td>\n",
       "      <td>3.84</td>\n",
       "      <td>9.873333</td>\n",
       "      <td>26.718962</td>\n",
       "      <td>16.118263</td>\n",
       "      <td>Léger</td>\n",
       "      <td>Faible</td>\n",
       "    </tr>\n",
       "  </tbody>\n",
       "</table>\n",
       "<p>960 rows × 12 columns</p>\n",
       "</div>"
      ],
      "text/plain": [
       "       City                Date  Temperature           Weather  Pressure  \\\n",
       "0     Rabat 2025-01-27 15:00:00        20.37  scattered clouds      1025   \n",
       "1     Rabat 2025-01-27 18:00:00        19.77        light rain      1025   \n",
       "2     Rabat 2025-01-27 21:00:00        18.64        light rain      1027   \n",
       "3     Rabat 2025-01-28 00:00:00        16.95        light rain      1028   \n",
       "4     Rabat 2025-01-28 03:00:00        16.28        light rain      1028   \n",
       "..      ...                 ...          ...               ...       ...   \n",
       "955  Settat 2025-02-01 00:00:00         5.77         clear sky      1029   \n",
       "956  Settat 2025-02-01 03:00:00         5.25         clear sky      1028   \n",
       "957  Settat 2025-02-01 06:00:00         5.05         clear sky      1028   \n",
       "958  Settat 2025-02-01 09:00:00         9.21         clear sky      1029   \n",
       "959  Settat 2025-02-01 12:00:00        15.36         clear sky      1028   \n",
       "\n",
       "     Humidity  Wind Speed  temp_rolling_avg  Heat Index  Wind Chill  \\\n",
       "0          73        7.37               NaN   22.666112   21.246540   \n",
       "1          77        7.34               NaN   21.814886   20.549328   \n",
       "2          84        5.93         19.593333   19.921837   19.414355   \n",
       "3          87        2.67         18.453333   19.222606   18.214014   \n",
       "4          77        2.10         17.290000   23.239428   17.703540   \n",
       "..        ...         ...               ...         ...         ...   \n",
       "955        88        2.93          7.673333   42.481836    5.919329   \n",
       "956        85        2.88          5.750000   46.224833    5.381612   \n",
       "957        79        2.64          5.356667   49.734187    5.316783   \n",
       "958        60        2.44          6.503333   39.668064    9.941753   \n",
       "959        33        3.84          9.873333   26.718962   16.118263   \n",
       "\n",
       "    Wind speed category Humidity category  \n",
       "0                Modéré             Elevé  \n",
       "1                Modéré             Elevé  \n",
       "2                Modéré             Elevé  \n",
       "3                 Léger             Elevé  \n",
       "4                 Léger             Elevé  \n",
       "..                  ...               ...  \n",
       "955               Léger             Elevé  \n",
       "956               Léger             Elevé  \n",
       "957               Léger             Elevé  \n",
       "958               Léger            Modéré  \n",
       "959               Léger            Faible  \n",
       "\n",
       "[960 rows x 12 columns]"
      ]
     },
     "execution_count": 99,
     "metadata": {},
     "output_type": "execute_result"
    }
   ],
   "source": [
    "df\n"
   ]
  },
  {
   "cell_type": "code",
   "execution_count": 103,
   "metadata": {},
   "outputs": [
    {
     "data": {
      "text/plain": [
       "Index(['City', 'Date', 'Temperature', 'Weather', 'Pressure', 'Humidity',\n",
       "       'Wind Speed', 'temp_rolling_avg', 'Heat Index', 'Wind Chill',\n",
       "       'Wind speed category', 'Humidity category'],\n",
       "      dtype='object')"
      ]
     },
     "execution_count": 103,
     "metadata": {},
     "output_type": "execute_result"
    }
   ],
   "source": [
    "df.columns"
   ]
  },
  {
   "cell_type": "code",
   "execution_count": 115,
   "metadata": {},
   "outputs": [
    {
     "name": "stdout",
     "output_type": "stream",
     "text": [
      "City                           object\n",
      "Date                   datetime64[ns]\n",
      "Temperature                   float64\n",
      "Weather                        object\n",
      "Pressure                        int64\n",
      "Humidity                        int64\n",
      "Wind Speed                    float64\n",
      "temp_rolling_avg              float64\n",
      "Heat Index                    float64\n",
      "Wind Chill                    float64\n",
      "Wind speed category            object\n",
      "Humidity category              object\n",
      "dtype: object\n"
     ]
    }
   ],
   "source": [
    "print(df.dtypes)"
   ]
  },
  {
   "cell_type": "code",
   "execution_count": 116,
   "metadata": {},
   "outputs": [],
   "source": [
    "# Remplacer NaN par None dans les colonnes numériques\n",
    "df['Temperature'] = df['Temperature'].apply(lambda x: None if pd.isna(x) else x)\n",
    "df['Pressure'] = df['Pressure'].apply(lambda x: None if pd.isna(x) else x)\n",
    "df['Wind Speed'] = df['Wind Speed'].apply(lambda x: None if pd.isna(x) else x)\n",
    "df['temp_rolling_avg'] = df['temp_rolling_avg'].apply(lambda x: None if pd.isna(x) else x)\n",
    "df['Heat Index'] = df['Heat Index'].apply(lambda x: None if pd.isna(x) else x)\n",
    "df['Wind Chill'] = df['Wind Chill'].apply(lambda x: None if pd.isna(x) else x)\n"
   ]
  },
  {
   "cell_type": "markdown",
   "metadata": {},
   "source": [
    "#### Transfer des donnees "
   ]
  },
  {
   "cell_type": "code",
   "execution_count": 124,
   "metadata": {},
   "outputs": [
    {
     "name": "stdout",
     "output_type": "stream",
     "text": [
      "Données insérées avec succès !\n"
     ]
    }
   ],
   "source": [
    "import pandas as pd\n",
    "\n",
    "\n",
    "# Création du curseur\n",
    "cursor = connection.cursor()\n",
    "\n",
    "\n",
    "# Insertion des données dans la table\n",
    "insert_query = \"\"\"\n",
    "INSERT INTO WeatherData (\n",
    "    City, Date_, Temperature, Weather, Pressure, Humidity, Wind_Speed, \n",
    "    Temp_Rolling_Avg, Heat_Index, Wind_Chill, Wind_Speed_Category, Humidity_Category\n",
    ") \n",
    "VALUES (\n",
    "    :City, :Date_, :Temperature, :Weather, :Pressure, :Humidity, :Wind_Speed, \n",
    "    :Temp_Rolling_Avg, :Heat_Index, :Wind_Chill, :Wind_Speed_Category, :Humidity_Category\n",
    ")\n",
    "\"\"\"\n",
    "\n",
    "# Itération sur chaque ligne du DataFrame et insertion dans la base\n",
    "for index, row in df.iterrows():\n",
    "    # Remplacer les NaN par None pour les colonnes numériques\n",
    "    row_data = {\n",
    "        'City': row['City'],\n",
    "        'Date_': row['Date'],\n",
    "        'Temperature': row['Temperature'] if pd.notna(row['Temperature']) else None,\n",
    "        'Weather': row['Weather'],\n",
    "        'Pressure': row['Pressure'] if pd.notna(row['Pressure']) else None,\n",
    "        'Humidity': row['Humidity'] if pd.notna(row['Humidity']) else None,\n",
    "        'Wind_Speed': row['Wind Speed'] if pd.notna(row['Wind Speed']) else None,\n",
    "        'Temp_Rolling_Avg': row['temp_rolling_avg'] if pd.notna(row['temp_rolling_avg']) else None,\n",
    "        'Heat_Index': row['Heat Index'] if pd.notna(row['Heat Index']) else None,\n",
    "        'Wind_Chill': row['Wind Chill'] if pd.notna(row['Wind Chill']) else None,\n",
    "        'Wind_Speed_Category': row['Wind speed category'],\n",
    "        'Humidity_Category': row['Humidity category']\n",
    "    }\n",
    "    \n",
    "    # Exécution de l'insertion\n",
    "    cursor.execute(insert_query, row_data)\n",
    "\n",
    "# Commit des modifications\n",
    "connection.commit()\n",
    "\n",
    "# Fermeture du curseur et de la connexion\n",
    "cursor.close()\n",
    "connection.close()\n",
    "\n",
    "print(\"Données insérées avec succès !\")"
   ]
  },
  {
   "cell_type": "code",
   "execution_count": 114,
   "metadata": {},
   "outputs": [
    {
     "name": "stdout",
     "output_type": "stream",
     "text": [
      "City                           object\n",
      "Date                   datetime64[ns]\n",
      "Temperature                   float64\n",
      "Weather                        object\n",
      "Pressure                        int64\n",
      "Humidity                        int64\n",
      "Wind Speed                    float64\n",
      "temp_rolling_avg              float64\n",
      "Heat Index                    float64\n",
      "Wind Chill                    float64\n",
      "Wind speed category            object\n",
      "Humidity category              object\n",
      "dtype: object\n"
     ]
    }
   ],
   "source": [
    "# Afficher les types de données pour chaque colonne\n",
    "print(df.dtypes)\n"
   ]
  },
  {
   "cell_type": "markdown",
   "metadata": {},
   "source": [
    "### Machine Learning "
   ]
  },
  {
   "cell_type": "code",
   "execution_count": 146,
   "metadata": {},
   "outputs": [
    {
     "name": "stdout",
     "output_type": "stream",
     "text": [
      "Avant traitement des valeurs nulles:\n",
      "City                   0\n",
      "Date                   0\n",
      "Temperature            0\n",
      "Weather                0\n",
      "Pressure               0\n",
      "Humidity               0\n",
      "Wind Speed             0\n",
      "temp_rolling_avg       2\n",
      "Heat Index             0\n",
      "Wind Chill             0\n",
      "Wind speed category    0\n",
      "Humidity category      0\n",
      "dtype: int64\n",
      "\n",
      "Après traitement des valeurs nulles:\n",
      "City                   0\n",
      "Date                   0\n",
      "Temperature            0\n",
      "Weather                0\n",
      "Pressure               0\n",
      "Humidity               0\n",
      "Wind Speed             0\n",
      "temp_rolling_avg       2\n",
      "Heat Index             0\n",
      "Wind Chill             0\n",
      "Wind speed category    0\n",
      "Humidity category      0\n",
      "dtype: int64\n",
      "\n",
      "DataFrame nettoyé:\n",
      "       City                Date  Temperature           Weather  Pressure  \\\n",
      "0     Rabat 2025-01-28 15:00:00        18.74        few clouds      1032   \n",
      "1     Rabat 2025-01-28 18:00:00        17.09        few clouds      1031   \n",
      "2     Rabat 2025-01-28 21:00:00        14.99         clear sky      1032   \n",
      "3     Rabat 2025-01-29 00:00:00        13.38         clear sky      1031   \n",
      "4     Rabat 2025-01-29 03:00:00        12.90         clear sky      1030   \n",
      "..      ...                 ...          ...               ...       ...   \n",
      "955  Settat 2025-02-02 00:00:00         6.41     broken clouds      1023   \n",
      "956  Settat 2025-02-02 03:00:00         7.45  scattered clouds      1023   \n",
      "957  Settat 2025-02-02 06:00:00         9.06     broken clouds      1022   \n",
      "958  Settat 2025-02-02 09:00:00        10.31   overcast clouds      1022   \n",
      "959  Settat 2025-02-02 12:00:00        14.02     broken clouds      1021   \n",
      "\n",
      "     Humidity  Wind Speed  temp_rolling_avg  Heat Index  Wind Chill  \\\n",
      "0          60        3.67               NaN   24.998817   19.916286   \n",
      "1          70        2.24               NaN   24.420135   18.514908   \n",
      "2          80        2.24         16.940000   23.551757   16.262426   \n",
      "3          85        2.63         15.153333   23.655329   14.356024   \n",
      "4          87        3.04         13.756667   23.445268   13.664307   \n",
      "..        ...         ...               ...         ...         ...   \n",
      "955        88        0.37          7.763333   40.084392    9.573797   \n",
      "956        85        1.17          6.956667   38.163053    9.120005   \n",
      "957        80        1.18          7.640000   35.571420   10.764357   \n",
      "958        70        0.41          8.940000   35.526009   13.213715   \n",
      "959        48        1.98         11.130000   30.144189   15.351228   \n",
      "\n",
      "    Wind speed category Humidity category  \n",
      "0                 Léger            Modéré  \n",
      "1                 Léger             Elevé  \n",
      "2                 Léger             Elevé  \n",
      "3                 Léger             Elevé  \n",
      "4                 Léger             Elevé  \n",
      "..                  ...               ...  \n",
      "955               Léger             Elevé  \n",
      "956               Léger             Elevé  \n",
      "957               Léger             Elevé  \n",
      "958               Léger             Elevé  \n",
      "959               Léger            Modéré  \n",
      "\n",
      "[960 rows x 12 columns]\n"
     ]
    }
   ],
   "source": [
    "import pandas as pd\n",
    "\n",
    "\n",
    "\n",
    "# Vérification des valeurs manquantes\n",
    "print(\"Avant traitement des valeurs nulles:\")\n",
    "print(df.isnull().sum())\n",
    "\n",
    "# Remplacer les valeurs nulles dans les colonnes numériques par la moyenne\n",
    "df['Temperature'] = df['Temperature'].fillna(df['Temperature'].mean())\n",
    "df['Humidity'] = df['Humidity'].fillna(df['Humidity'].mean())\n",
    "\n",
    "# Remplacer les valeurs nulles dans la colonne catégorielle par \"Inconnu\"\n",
    "df['Weather'] = df['Weather'].fillna('Inconnu')\n",
    "\n",
    "# Vérification après traitement\n",
    "print(\"\\nAprès traitement des valeurs nulles:\")\n",
    "print(df.isnull().sum())\n",
    "\n",
    "# Affichage du DataFrame nettoyé\n",
    "print(\"\\nDataFrame nettoyé:\")\n",
    "print(df)\n"
   ]
  },
  {
   "cell_type": "code",
   "execution_count": 148,
   "metadata": {},
   "outputs": [],
   "source": [
    "df['temp_rolling_avg'] = df['Temperature'].rolling(window=3).mean()\n"
   ]
  },
  {
   "cell_type": "markdown",
   "metadata": {},
   "source": [
    "#### Modèle de classification (Random Forest) :"
   ]
  },
  {
   "cell_type": "code",
   "execution_count": 149,
   "metadata": {},
   "outputs": [
    {
     "name": "stdout",
     "output_type": "stream",
     "text": [
      "Accuracy: 0.9947916666666666\n"
     ]
    }
   ],
   "source": [
    "from sklearn.model_selection import train_test_split\n",
    "from sklearn.ensemble import RandomForestClassifier\n",
    "from sklearn.metrics import accuracy_score\n",
    "\n",
    "# Sélection des caractéristiques (X) et de la cible (y)\n",
    "X = df[['Pressure', 'Humidity', 'Wind Speed', 'temp_rolling_avg', 'Heat Index', 'Wind Chill']]\n",
    "y = df['Wind speed category']  # Cible catégorielle\n",
    "\n",
    "# Séparation des données en ensemble d'entraînement et de test\n",
    "X_train, X_test, y_train, y_test = train_test_split(X, y, test_size=0.2, random_state=42)\n",
    "\n",
    "# Initialisation du modèle\n",
    "model = RandomForestClassifier()\n",
    "\n",
    "# Entraînement du modèle\n",
    "model.fit(X_train, y_train)\n",
    "\n",
    "# Prédiction sur les données de test\n",
    "y_pred = model.predict(X_test)\n",
    "\n",
    "# Évaluation de la performance (précision)\n",
    "accuracy = accuracy_score(y_test, y_pred)\n",
    "print(f\"Accuracy: {accuracy}\")\n"
   ]
  },
  {
   "cell_type": "markdown",
   "metadata": {},
   "source": [
    "#### Modèle de régression (Régression linéaire) :"
   ]
  },
  {
   "cell_type": "code",
   "execution_count": 151,
   "metadata": {},
   "outputs": [
    {
     "name": "stdout",
     "output_type": "stream",
     "text": [
      "City                   0\n",
      "Date                   0\n",
      "Temperature            0\n",
      "Weather                0\n",
      "Pressure               0\n",
      "Humidity               0\n",
      "Wind Speed             0\n",
      "temp_rolling_avg       2\n",
      "Heat Index             0\n",
      "Wind Chill             0\n",
      "Wind speed category    0\n",
      "Humidity category      0\n",
      "dtype: int64\n"
     ]
    }
   ],
   "source": [
    "print(df.isnull().sum())\n"
   ]
  },
  {
   "cell_type": "code",
   "execution_count": 152,
   "metadata": {},
   "outputs": [],
   "source": [
    "df = df.dropna(subset=['temp_rolling_avg'])\n"
   ]
  },
  {
   "cell_type": "code",
   "execution_count": 153,
   "metadata": {},
   "outputs": [
    {
     "name": "stdout",
     "output_type": "stream",
     "text": [
      "Mean Squared Error: 0.18238591895295198\n",
      "R2: 0.9911158608238804\n"
     ]
    }
   ],
   "source": [
    "from sklearn.model_selection import train_test_split\n",
    "from sklearn.linear_model import LinearRegression\n",
    "from sklearn.metrics import mean_squared_error\n",
    "\n",
    "# Sélection des caractéristiques (X) et de la cible (y)\n",
    "X = df[['Pressure', 'Humidity', 'Wind Speed', 'temp_rolling_avg', 'Heat Index', 'Wind Chill']]\n",
    "y = df['Temperature']  # Cible continue\n",
    "\n",
    "# Séparation des données en ensemble d'entraînement et de test\n",
    "X_train, X_test, y_train, y_test = train_test_split(X, y, test_size=0.2, random_state=42)\n",
    "\n",
    "# Initialisation du modèle de régression linéaire\n",
    "model = LinearRegression()\n",
    "\n",
    "# Entraînement du modèle\n",
    "model.fit(X_train, y_train)\n",
    "\n",
    "# Prédiction des températures sur les données de test\n",
    "y_pred = model.predict(X_test)\n",
    "\n",
    "# Calcul de l'erreur quadratique moyenne (MSE)\n",
    "mse = mean_squared_error(y_test, y_pred)\n",
    "print(f\"Mean Squared Error: {mse}\")\n",
    "\n",
    "# Calcul du R² (coefficient de détermination)\n",
    "r2 = model.score(X_test, y_test)\n",
    "print(f\"R2: {r2}\")\n"
   ]
  },
  {
   "cell_type": "markdown",
   "metadata": {},
   "source": [
    "#### Modèle de Regroupement avec K-Means"
   ]
  },
  {
   "cell_type": "code",
   "execution_count": 155,
   "metadata": {},
   "outputs": [
    {
     "name": "stdout",
     "output_type": "stream",
     "text": [
      "       City  Temperature  Cluster\n",
      "2     Rabat        14.99        0\n",
      "3     Rabat        13.38        0\n",
      "4     Rabat        12.90        0\n",
      "5     Rabat        11.94        0\n",
      "6     Rabat        12.90        0\n",
      "..      ...          ...      ...\n",
      "955  Settat         6.41        1\n",
      "956  Settat         7.45        1\n",
      "957  Settat         9.06        1\n",
      "958  Settat        10.31        1\n",
      "959  Settat        14.02        2\n",
      "\n",
      "[958 rows x 3 columns]\n"
     ]
    },
    {
     "data": {
      "image/png": "[encoded data removed]",
      "text/plain": [
       "<Figure size 640x480 with 1 Axes>"
      ]
     },
     "metadata": {},
     "output_type": "display_data"
    },
    {
     "name": "stdout",
     "output_type": "stream",
     "text": [
      "Centroids of the clusters: [[ 0.64108136  0.22956739  0.37628403  0.55733559 -0.51256342  0.37664275]\n",
      " [-0.06923651  0.6167203  -0.34651082 -1.09437336  1.08154563 -1.0761296 ]\n",
      " [-0.85777193 -1.0154511  -0.16576069  0.39610907 -0.44719031  0.6392808 ]]\n"
     ]
    }
   ],
   "source": [
    "from sklearn.cluster import KMeans\n",
    "import pandas as pd\n",
    "import matplotlib.pyplot as plt\n",
    "\n",
    "# Supposons que votre DataFrame s'appelle df\n",
    "X = df[['Pressure', 'Humidity', 'Wind Speed', 'temp_rolling_avg', 'Heat Index', 'Wind Chill']]\n",
    "\n",
    "# Normalisation des données (optionnel, mais conseillé pour K-Means)\n",
    "from sklearn.preprocessing import StandardScaler\n",
    "scaler = StandardScaler()\n",
    "X_scaled = scaler.fit_transform(X)\n",
    "\n",
    "# Appliquer K-Means pour créer 3 clusters (vous pouvez essayer différentes valeurs de K)\n",
    "kmeans = KMeans(n_clusters=3, random_state=42)\n",
    "df['Cluster'] = kmeans.fit_predict(X_scaled)\n",
    "\n",
    "# Afficher les résultats\n",
    "print(df[['City', 'Temperature', 'Cluster']])\n",
    "\n",
    "# Visualisation des clusters (si vous avez des données en 2D ou 3D)\n",
    "plt.scatter(df['Temperature'], df['Pressure'], c=df['Cluster'], cmap='viridis')\n",
    "plt.xlabel('Temperature')\n",
    "plt.ylabel('Pressure')\n",
    "plt.title('Clusters Based on Temperature and Pressure')\n",
    "plt.show()\n",
    "\n",
    "# Centres des clusters\n",
    "centroids = kmeans.cluster_centers_\n",
    "print(\"Centroids of the clusters:\", centroids)\n"
   ]
  },
  {
   "cell_type": "code",
   "execution_count": 156,
   "metadata": {},
   "outputs": [
    {
     "data": {
      "image/png": "[encoded data removed]",
      "text/plain": [
       "<Figure size 640x480 with 1 Axes>"
      ]
     },
     "metadata": {},
     "output_type": "display_data"
    }
   ],
   "source": [
    "inertia = []\n",
    "for k in range(1, 11):  # Tester k de 1 à 10\n",
    "    kmeans = KMeans(n_clusters=k, random_state=42)\n",
    "    kmeans.fit(X_scaled)\n",
    "    inertia.append(kmeans.inertia_)\n",
    "\n",
    "plt.plot(range(1, 11), inertia)\n",
    "plt.xlabel('Nombre de clusters')\n",
    "plt.ylabel('Inertie')\n",
    "plt.title('Méthode du coude')\n",
    "plt.show()\n"
   ]
  },
  {
   "cell_type": "code",
   "execution_count": null,
   "metadata": {},
   "outputs": [],
   "source": []
  }
 ],
 "metadata": {
  "kernelspec": {
   "display_name": "Python 3",
   "language": "python",
   "name": "python3"
  },
  "language_info": {
   "codemirror_mode": {
    "name": "ipython",
    "version": 3
   },
   "file_extension": ".py",
   "mimetype": "text/x-python",
   "name": "python",
   "nbconvert_exporter": "python",
   "pygments_lexer": "ipython3",
   "version": "3.12.0"
  }
 },
 "nbformat": 4,
 "nbformat_minor": 2
}
